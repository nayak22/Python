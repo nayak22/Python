{
 "cells": [
  {
   "cell_type": "markdown",
   "metadata": {},
   "source": [
    "### Assignments"
   ]
  },
  {
   "cell_type": "markdown",
   "metadata": {},
   "source": [
    "##### Finding Average Marks"
   ]
  },
  {
   "cell_type": "code",
   "execution_count": 1,
   "metadata": {},
   "outputs": [
    {
     "name": "stdout",
     "output_type": "stream",
     "text": [
      "95.33333333333333\n"
     ]
    }
   ],
   "source": [
    "mark1=int(input(\"Enter marks in first subject: \"))\n",
    "mark2=int(input(\"Enter marks in second subject: \"))\n",
    "mark3=int(input(\"Enter marks in third subject: \"))\n",
    "\n",
    "averageMarks=(mark1+mark2+mark3)/3\n",
    "print(averageMarks)"
   ]
  },
  {
   "cell_type": "markdown",
   "metadata": {},
   "source": [
    "##### Find X raised to power N"
   ]
  },
  {
   "cell_type": "code",
   "execution_count": 2,
   "metadata": {},
   "outputs": [
    {
     "name": "stdout",
     "output_type": "stream",
     "text": [
      "125\n"
     ]
    }
   ],
   "source": [
    "X=int(input(\"Enter the number: \"))\n",
    "n=int(input(\"Enter the power: \"))\n",
    "\n",
    "XtoPowerN=X**n\n",
    "print(XtoPowerN)"
   ]
  },
  {
   "cell_type": "markdown",
   "metadata": {},
   "source": [
    "##### Arithemetic Progression"
   ]
  },
  {
   "cell_type": "code",
   "execution_count": null,
   "metadata": {},
   "outputs": [],
   "source": []
  },
  {
   "cell_type": "markdown",
   "metadata": {},
   "source": [
    "##### Area of Rectangle"
   ]
  },
  {
   "cell_type": "code",
   "execution_count": 3,
   "metadata": {},
   "outputs": [
    {
     "name": "stdout",
     "output_type": "stream",
     "text": [
      "4\n"
     ]
    }
   ],
   "source": [
    "#take the 2 coordinates(diagonal) as input and find the area of rectangle\n",
    "\n",
    "x1=int(input(\"Enter the X1 codinate of rectangle\")) \n",
    "y1=int(input(\"Enter the Y1 codinate of rectangle\")) \n",
    "x2=int(input(\"Enter the X2 codinate of rectangle\")) \n",
    "y2=int(input(\"Enter the Y2 codinate of rectangle\"))\n",
    "\n",
    "area=(x2-x1)*(y2-y1)\n",
    "print(area)"
   ]
  },
  {
   "cell_type": "code",
   "execution_count": null,
   "metadata": {},
   "outputs": [],
   "source": []
  }
 ],
 "metadata": {
  "kernelspec": {
   "display_name": "Python 3.10.5 64-bit",
   "language": "python",
   "name": "python3"
  },
  "language_info": {
   "codemirror_mode": {
    "name": "ipython",
    "version": 3
   },
   "file_extension": ".py",
   "mimetype": "text/x-python",
   "name": "python",
   "nbconvert_exporter": "python",
   "pygments_lexer": "ipython3",
   "version": "3.10.5"
  },
  "orig_nbformat": 4,
  "vscode": {
   "interpreter": {
    "hash": "eabca979b0553fa6d87e9a00c352604d3b703d4afc9641643dd42376492b80f6"
   }
  }
 },
 "nbformat": 4,
 "nbformat_minor": 2
}
