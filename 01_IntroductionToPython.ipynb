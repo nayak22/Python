{
 "cells": [
  {
   "cell_type": "markdown",
   "metadata": {},
   "source": [
    "### Introduction to Python\n"
   ]
  },
  {
   "cell_type": "code",
   "execution_count": 1,
   "metadata": {},
   "outputs": [
    {
     "name": "stdout",
     "output_type": "stream",
     "text": [
      "Hello World!!\n"
     ]
    }
   ],
   "source": [
    "#First Python Program\n",
    "print(\"Hello World!!\") #prints whatever is in the double quotes\n"
   ]
  },
  {
   "cell_type": "code",
   "execution_count": 3,
   "metadata": {},
   "outputs": [
    {
     "name": "stdout",
     "output_type": "stream",
     "text": [
      "Hi\n",
      "Samrath!!\n"
     ]
    }
   ],
   "source": [
    "print(\"Hi\") # print by default adds the new line after each print statement \n",
    "print(\"Samrath!!\")"
   ]
  },
  {
   "cell_type": "markdown",
   "metadata": {},
   "source": [
    "##### Variables in Python"
   ]
  },
  {
   "cell_type": "code",
   "execution_count": 4,
   "metadata": {},
   "outputs": [
    {
     "name": "stdout",
     "output_type": "stream",
     "text": [
      "30\n",
      "sum\n",
      "abc\n"
     ]
    }
   ],
   "source": [
    "a=10\n",
    "b=20\n",
    "\n",
    "sum=a+b\n",
    "print(sum) #without the double quotes it prints variable\n",
    "print(\"sum\") #sum is now a string here same is printed\n",
    "\n",
    "print(\"abc\") #abc is string which will be printed\n",
    "#print(abc)  #will throw an eror as there is no variable abc"
   ]
  },
  {
   "cell_type": "markdown",
   "metadata": {},
   "source": [
    "##### Data Types in Python"
   ]
  },
  {
   "cell_type": "code",
   "execution_count": 5,
   "metadata": {},
   "outputs": [
    {
     "name": "stdout",
     "output_type": "stream",
     "text": [
      "10\n",
      "<class 'int'>\n",
      "25\n",
      "<class 'int'>\n",
      "stringValue\n",
      "<class 'str'>\n"
     ]
    }
   ],
   "source": [
    "a=10\n",
    "print(a)\n",
    "#type() funtion that return the data type of the variable \n",
    "print(type(a))\n",
    "\n",
    "# a can be resassigned with new number now\n",
    "a=25\n",
    "print(a)\n",
    "print(type(a))\n",
    "\n",
    "# a can also be re assigned with new type\n",
    "a=\"stringValue\"\n",
    "print(a)\n",
    "print(type(a))\n"
   ]
  },
  {
   "cell_type": "markdown",
   "metadata": {},
   "source": [
    "##### Python Numbers"
   ]
  },
  {
   "cell_type": "code",
   "execution_count": 6,
   "metadata": {},
   "outputs": [
    {
     "name": "stdout",
     "output_type": "stream",
     "text": [
      "<class 'int'>\n",
      "<class 'float'>\n",
      "<class 'complex'>\n"
     ]
    }
   ],
   "source": [
    "a1=23\n",
    "a2=25.3\n",
    "a3=2+4j\n",
    "\n",
    "print(type(a1))\n",
    "print(type(a2))\n",
    "print(type(a3))"
   ]
  },
  {
   "cell_type": "code",
   "execution_count": 7,
   "metadata": {},
   "outputs": [
    {
     "name": "stdout",
     "output_type": "stream",
     "text": [
      "1950569333264\n",
      "1950569333584\n"
     ]
    }
   ],
   "source": [
    "#please refere the notes for how the storage happens in python\n",
    "#python variable store the address once the expression is evaluted it points to new address and doesnt update the value in current address\n",
    "#This is done for the optimisation purpose\n",
    "\n",
    "a=10\n",
    "print(id(a))- #id function return the unique number associated with the address\n",
    "a=a+10\n",
    "print(id(a))"
   ]
  },
  {
   "cell_type": "code",
   "execution_count": 8,
   "metadata": {},
   "outputs": [
    {
     "name": "stdout",
     "output_type": "stream",
     "text": [
      "1950569333264\n",
      "1950569333264\n",
      "1950633634416\n",
      "1950633634704\n"
     ]
    }
   ],
   "source": [
    "a=10\n",
    "b=10\n",
    "print(id(a))\n",
    "print(id(b))\n",
    "\n",
    "#above is true for only numbers between -5 to 256\n",
    "\n",
    "a1=1000\n",
    "b1=1000\n",
    "print(id(a1))\n",
    "print(id(b1))"
   ]
  },
  {
   "cell_type": "markdown",
   "metadata": {},
   "source": [
    "##### Arithemetic operator"
   ]
  },
  {
   "cell_type": "code",
   "execution_count": 9,
   "metadata": {},
   "outputs": [
    {
     "name": "stdout",
     "output_type": "stream",
     "text": [
      "13\n",
      "7\n",
      "30\n",
      "3.3333333333333335\n",
      "3\n",
      "1000\n",
      "1\n"
     ]
    }
   ],
   "source": [
    "a=10\n",
    "b=3\n",
    "\n",
    "print(a+b) #addition\n",
    "print(a-b)  #subraction\n",
    "print(a*b) #multiplication\n",
    "print(a/b)   #floating point division\n",
    "print(a//b) #integer division\n",
    "print(a**b)  #exponentiation\n",
    "print(a%b)  # modulus operator which returns the remainder\n",
    "\n",
    "## note:- when multiple operators are used the precedence of operators come intpo picture\n",
    "## but its recomended to use the bracates to group which should happen first"
   ]
  },
  {
   "cell_type": "markdown",
   "metadata": {},
   "source": [
    "###### Example:- Calculate the Simple intrest"
   ]
  },
  {
   "cell_type": "code",
   "execution_count": 14,
   "metadata": {},
   "outputs": [
    {
     "name": "stdout",
     "output_type": "stream",
     "text": [
      "24.0\n"
     ]
    }
   ],
   "source": [
    "p=100  #principle\n",
    "r=12 #rate of intrest\n",
    "t=2   #year or time\n",
    "\n",
    "# si is simple intrest calculated by p*t*r/100\n",
    "\n",
    "si=(p*t*r)/100\n",
    "print(si)"
   ]
  },
  {
   "cell_type": "markdown",
   "metadata": {},
   "source": [
    "###### Example:- fah to celcius conversion"
   ]
  },
  {
   "cell_type": "code",
   "execution_count": 15,
   "metadata": {},
   "outputs": [
    {
     "name": "stdout",
     "output_type": "stream",
     "text": [
      "37.77777777777778\n"
     ]
    }
   ],
   "source": [
    "f=100\n",
    "c=(5/9)*(f-32)\n",
    "print(c)"
   ]
  },
  {
   "cell_type": "markdown",
   "metadata": {},
   "source": [
    "##### Taking the input"
   ]
  },
  {
   "cell_type": "code",
   "execution_count": 17,
   "metadata": {},
   "outputs": [
    {
     "name": "stdout",
     "output_type": "stream",
     "text": [
      "50\n",
      "<class 'str'>\n"
     ]
    }
   ],
   "source": [
    "var= input()\n",
    "print(var)\n",
    "print(type(var))"
   ]
  },
  {
   "cell_type": "code",
   "execution_count": 18,
   "metadata": {},
   "outputs": [
    {
     "name": "stdout",
     "output_type": "stream",
     "text": [
      "25\n",
      "<class 'int'>\n"
     ]
    }
   ],
   "source": [
    "# from above we see that the input taken from the user is in the form of string by default\n",
    "# we can convert it explicitly to other form\n",
    "\n",
    "var=int(input(\"Enter the number: \"))\n",
    "print(var)\n",
    "print(type(var))"
   ]
  },
  {
   "cell_type": "code",
   "execution_count": 19,
   "metadata": {},
   "outputs": [
    {
     "name": "stdout",
     "output_type": "stream",
     "text": [
      "87\n"
     ]
    }
   ],
   "source": [
    "# for converting to float use float() \n",
    "# note that it should be valid literal for type conversion \n",
    "\n",
    "#eg:-\"75.3\" can be converted to int or float but \"75d\" will throw an error \n",
    "\n",
    "#adding 2 numbers by taking input from the user\n",
    "a=int(input(\"Enter first number: \"))\n",
    "b=int(input(\"Enter second number: \"))\n",
    "\n",
    "sum= a+b\n",
    "print(sum)"
   ]
  }
 ],
 "metadata": {
  "kernelspec": {
   "display_name": "Python 3.10.5 64-bit",
   "language": "python",
   "name": "python3"
  },
  "language_info": {
   "codemirror_mode": {
    "name": "ipython",
    "version": 3
   },
   "file_extension": ".py",
   "mimetype": "text/x-python",
   "name": "python",
   "nbconvert_exporter": "python",
   "pygments_lexer": "ipython3",
   "version": "3.10.5"
  },
  "orig_nbformat": 4,
  "vscode": {
   "interpreter": {
    "hash": "eabca979b0553fa6d87e9a00c352604d3b703d4afc9641643dd42376492b80f6"
   }
  }
 },
 "nbformat": 4,
 "nbformat_minor": 2
}
